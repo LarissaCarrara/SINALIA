{
  "nbformat": 4,
  "nbformat_minor": 0,
  "metadata": {
    "colab": {
      "provenance": [],
      "authorship_tag": "ABX9TyOoP0p9uQes9uf4GkQsgu9m",
      "include_colab_link": true
    },
    "kernelspec": {
      "name": "python3",
      "display_name": "Python 3"
    },
    "language_info": {
      "name": "python"
    }
  },
  "cells": [
    {
      "cell_type": "markdown",
      "metadata": {
        "id": "view-in-github",
        "colab_type": "text"
      },
      "source": [
        "<a href=\"https://colab.research.google.com/github/LarissaCarrara/SINALIA/blob/main/SINALIA.ipynb\" target=\"_parent\"><img src=\"https://colab.research.google.com/assets/colab-badge.svg\" alt=\"Open In Colab\"/></a>"
      ]
    },
    {
      "cell_type": "code",
      "source": [
        "%pip -q install google-genai"
      ],
      "metadata": {
        "id": "9nboQkZA2Oke"
      },
      "execution_count": null,
      "outputs": []
    },
    {
      "cell_type": "code",
      "source": [
        "# Configura a API Key do Google Gemini\n",
        "\n",
        "import os\n",
        "from google.colab import userdata\n",
        "\n",
        "os.environ[\"GOOGLE_API_KEY\"] = userdata.get('GOOGLE_API_KEY')"
      ],
      "metadata": {
        "id": "HPaCpKjE2UAl"
      },
      "execution_count": null,
      "outputs": []
    },
    {
      "cell_type": "code",
      "source": [
        "# Instalar Framework de agentes do Google\n",
        "!pip install -q google-adk"
      ],
      "metadata": {
        "colab": {
          "base_uri": "https://localhost:8080/"
        },
        "id": "YHDNnPXn2dJI",
        "outputId": "6a67a7dd-0682-4a76-a83f-98b74be43f96"
      },
      "execution_count": null,
      "outputs": [
        {
          "output_type": "stream",
          "name": "stdout",
          "text": [
            "\u001b[?25l   \u001b[90m━━━━━━━━━━━━━━━━━━━━━━━━━━━━━━━━━━━━━━━━\u001b[0m \u001b[32m0.0/1.2 MB\u001b[0m \u001b[31m?\u001b[0m eta \u001b[36m-:--:--\u001b[0m\r\u001b[2K   \u001b[91m━━━━━━━━━━━━━━━━━\u001b[0m\u001b[91m╸\u001b[0m\u001b[90m━━━━━━━━━━━━━━━━━━━━━━\u001b[0m \u001b[32m0.5/1.2 MB\u001b[0m \u001b[31m15.8 MB/s\u001b[0m eta \u001b[36m0:00:01\u001b[0m\r\u001b[2K   \u001b[90m━━━━━━━━━━━━━━━━━━━━━━━━━━━━━━━━━━━━━━━━\u001b[0m \u001b[32m1.2/1.2 MB\u001b[0m \u001b[31m19.0 MB/s\u001b[0m eta \u001b[36m0:00:00\u001b[0m\n",
            "\u001b[?25h\u001b[?25l   \u001b[90m━━━━━━━━━━━━━━━━━━━━━━━━━━━━━━━━━━━━━━━━\u001b[0m \u001b[32m0.0/232.1 kB\u001b[0m \u001b[31m?\u001b[0m eta \u001b[36m-:--:--\u001b[0m\r\u001b[2K   \u001b[90m━━━━━━━━━━━━━━━━━━━━━━━━━━━━━━━━━━━━━━━━\u001b[0m \u001b[32m232.1/232.1 kB\u001b[0m \u001b[31m16.4 MB/s\u001b[0m eta \u001b[36m0:00:00\u001b[0m\n",
            "\u001b[2K   \u001b[90m━━━━━━━━━━━━━━━━━━━━━━━━━━━━━━━━━━━━━━━━\u001b[0m \u001b[32m95.2/95.2 kB\u001b[0m \u001b[31m6.9 MB/s\u001b[0m eta \u001b[36m0:00:00\u001b[0m\n",
            "\u001b[2K   \u001b[90m━━━━━━━━━━━━━━━━━━━━━━━━━━━━━━━━━━━━━━━━\u001b[0m \u001b[32m217.1/217.1 kB\u001b[0m \u001b[31m15.7 MB/s\u001b[0m eta \u001b[36m0:00:00\u001b[0m\n",
            "\u001b[2K   \u001b[90m━━━━━━━━━━━━━━━━━━━━━━━━━━━━━━━━━━━━━━━━\u001b[0m \u001b[32m334.1/334.1 kB\u001b[0m \u001b[31m19.8 MB/s\u001b[0m eta \u001b[36m0:00:00\u001b[0m\n",
            "\u001b[2K   \u001b[90m━━━━━━━━━━━━━━━━━━━━━━━━━━━━━━━━━━━━━━━━\u001b[0m \u001b[32m125.1/125.1 kB\u001b[0m \u001b[31m9.3 MB/s\u001b[0m eta \u001b[36m0:00:00\u001b[0m\n",
            "\u001b[2K   \u001b[90m━━━━━━━━━━━━━━━━━━━━━━━━━━━━━━━━━━━━━━━━\u001b[0m \u001b[32m65.8/65.8 kB\u001b[0m \u001b[31m4.5 MB/s\u001b[0m eta \u001b[36m0:00:00\u001b[0m\n",
            "\u001b[2K   \u001b[90m━━━━━━━━━━━━━━━━━━━━━━━━━━━━━━━━━━━━━━━━\u001b[0m \u001b[32m119.0/119.0 kB\u001b[0m \u001b[31m7.9 MB/s\u001b[0m eta \u001b[36m0:00:00\u001b[0m\n",
            "\u001b[2K   \u001b[90m━━━━━━━━━━━━━━━━━━━━━━━━━━━━━━━━━━━━━━━━\u001b[0m \u001b[32m194.9/194.9 kB\u001b[0m \u001b[31m13.7 MB/s\u001b[0m eta \u001b[36m0:00:00\u001b[0m\n",
            "\u001b[2K   \u001b[90m━━━━━━━━━━━━━━━━━━━━━━━━━━━━━━━━━━━━━━━━\u001b[0m \u001b[32m62.5/62.5 kB\u001b[0m \u001b[31m4.3 MB/s\u001b[0m eta \u001b[36m0:00:00\u001b[0m\n",
            "\u001b[2K   \u001b[90m━━━━━━━━━━━━━━━━━━━━━━━━━━━━━━━━━━━━━━━━\u001b[0m \u001b[32m103.3/103.3 kB\u001b[0m \u001b[31m6.8 MB/s\u001b[0m eta \u001b[36m0:00:00\u001b[0m\n",
            "\u001b[2K   \u001b[90m━━━━━━━━━━━━━━━━━━━━━━━━━━━━━━━━━━━━━━━━\u001b[0m \u001b[32m44.4/44.4 kB\u001b[0m \u001b[31m2.8 MB/s\u001b[0m eta \u001b[36m0:00:00\u001b[0m\n",
            "\u001b[2K   \u001b[90m━━━━━━━━━━━━━━━━━━━━━━━━━━━━━━━━━━━━━━━━\u001b[0m \u001b[32m72.0/72.0 kB\u001b[0m \u001b[31m4.8 MB/s\u001b[0m eta \u001b[36m0:00:00\u001b[0m\n",
            "\u001b[?25h"
          ]
        }
      ]
    },
    {
      "cell_type": "code",
      "source": [
        "from google.adk.agents import Agent\n",
        "from google.adk.runners import Runner\n",
        "from google.adk.sessions import InMemorySessionService\n",
        "from google.adk.tools import google_search\n",
        "from google.genai import types  # Para criar conteúdos (Content e Part)\n",
        "from datetime import date\n",
        "import textwrap # Para formatar melhor a saída de texto\n",
        "from IPython.display import display, Markdown # Para exibir texto formatado no Colab\n",
        "import requests # Para fazer requisições HTTP\n",
        "import warnings\n",
        "\n",
        "warnings.filterwarnings(\"ignore\")"
      ],
      "metadata": {
        "id": "qXpsn0jS2rgC"
      },
      "execution_count": null,
      "outputs": []
    },
    {
      "cell_type": "code",
      "source": [
        "# Função auxiliar que envia uma mensagem para um agente via Runner e retorna a resposta final\n",
        "def call_agent(agent: Agent, message_text: str) -> str:\n",
        "    # Cria um serviço de sessão em memória\n",
        "    session_service = InMemorySessionService()\n",
        "    # Cria uma nova sessão (você pode personalizar os IDs conforme necessário)\n",
        "    session = session_service.create_session(app_name=agent.name, user_id=\"user1\", session_id=\"session1\")\n",
        "    # Cria um Runner para o agente\n",
        "    runner = Runner(agent=agent, app_name=agent.name, session_service=session_service)\n",
        "    # Cria o conteúdo da mensagem de entrada\n",
        "    content = types.Content(role=\"user\", parts=[types.Part(text=message_text)])\n",
        "\n",
        "    final_response = \"\"\n",
        "    # Itera assincronamente pelos eventos retornados durante a execução do agente\n",
        "    for event in runner.run(user_id=\"user1\", session_id=\"session1\", new_message=content):\n",
        "        if event.is_final_response():\n",
        "          for part in event.content.parts:\n",
        "            if part.text is not None:\n",
        "              final_response += part.text\n",
        "              final_response += \"\\n\"\n",
        "    return final_response"
      ],
      "metadata": {
        "id": "z5fKWuIu2rQG"
      },
      "execution_count": null,
      "outputs": []
    },
    {
      "cell_type": "code",
      "source": [
        "# Função auxiliar para exibir texto formatado em Markdown no Colab\n",
        "def to_markdown(text):\n",
        "  text = text.replace('•', '  *')\n",
        "  return Markdown(textwrap.indent(text, '> ', predicate=lambda _: True))"
      ],
      "metadata": {
        "id": "qWlprpgd3Lje"
      },
      "execution_count": null,
      "outputs": []
    },
    {
      "cell_type": "code",
      "source": [
        "##########################################\n",
        "# --- Agente:  Busca traduzir a frase para libras --- #\n",
        "##########################################\n",
        "def agente_buscador(frase):\n",
        "\n",
        "    buscador = Agent(\n",
        "        name=\"agente_buscador\",\n",
        "        model=\"gemini-2.0-flash\",\n",
        "        instruction=\"\"\"\n",
        "       Você é um **Guia de Libras**. Sua tarefa é **traduzir frases do português para Libras**, **explicar como fazer os gestos**, e **fornecer um link** para ver o sinal em ação.\n",
        "\n",
        "Use a ferramenta `Google Search` com esta estratégia:\n",
        "1.  **Primeiro, tente buscar o sinal em Libras para a frase COMPLETA** que o usuário pedir. Priorize resultados que ofereçam vídeos ou imagens claras de como fazer o sinal da frase.\n",
        "2.  **Se não encontrar o sinal para a frase completa**, então **quebre a frase em palavras-chave** e busque o sinal em Libras e um link para **CADA UMA DESSAS PALAVRAS**. Priorize vídeos ou imagens para cada palavra. Lembre-se que a estrutura da Libras pode ser diferente do português, então os sinais das palavras individuais são um ótimo ponto de partida.\n",
        "\n",
        "Sua resposta DEVE ser muito útil e incluir:\n",
        "* A **frase original** em português.\n",
        "* **SE o sinal da frase completa for encontrado:**\n",
        "    * Uma **descrição detalhada e clara de como fazer os gestos** do sinal da frase (movimentos, posição das mãos, expressão facial, etc.).\n",
        "    * **O link** para o vídeo válido e disponível ou imagem que mostra o sinal da frase.\n",
        "* **SE o sinal da frase completa NÃO for encontrado (e você buscar por palavras):**\n",
        "    * Informe que, como a frase inteira não foi encontrada, você fornecerá os sinais das palavras-chave.\n",
        "    * Para CADA palavra-chave encontrada, forneça:\n",
        "        * A **palavra original**.\n",
        "        * Uma **descrição clara de como fazer os gestos** do sinal daquela palavra.\n",
        "        * **O link** para o vídeo ou imagem que mostra o sinal daquela palavra.\n",
        "* **Se não encontrar nenhum link ou descrição clara (nem para a frase, nem para palavras) após todas as tentativas**, diga de forma educada que não foi possível encontrar um recurso visual específico e sugira buscar por um instrutor de Libras para um aprendizado mais aprofundado.\n",
        "        \"\"\",\n",
        "        description=\"Agente para ensinar libras\",\n",
        "        tools=[google_search]\n",
        "    )\n",
        "\n",
        "    entrada_do_agente_buscador = f\"Frase para passar para libras: {frase}\"\n",
        "\n",
        "    resultado = call_agent(buscador, entrada_do_agente_buscador)\n",
        "    return resultado"
      ],
      "metadata": {
        "id": "IsVaDL2t3SSf"
      },
      "execution_count": null,
      "outputs": []
    },
    {
      "cell_type": "code",
      "source": [
        "frase = input(\"Qual palavra/frase você gostaria de aprender em libras?: \")\n",
        "resultado = agente_buscador(frase)\n",
        "print(\"\\n--- 📝 Resultado do Agente 1 (Buscador) ---\\n\")\n",
        "display(to_markdown(resultado))"
      ],
      "metadata": {
        "colab": {
          "base_uri": "https://localhost:8080/",
          "height": 974
        },
        "id": "IyegJbeCrWy4",
        "outputId": "23f6d138-41b4-4207-8f60-07e021f28c4e"
      },
      "execution_count": null,
      "outputs": [
        {
          "output_type": "stream",
          "name": "stdout",
          "text": [
            "Qual palavra/frase você gostaria de aprender em libras?: Oi, tudo bem? Bem vindo ao meu projeto! Espero que goste.\n",
            "\n",
            "--- 📝 Resultado do Agente 1 (Buscador) ---\n",
            "\n"
          ]
        },
        {
          "output_type": "display_data",
          "data": {
            "text/plain": [
              "<IPython.core.display.Markdown object>"
            ],
            "text/markdown": "> Olá! Para te ajudar a traduzir a frase \"Oi, tudo bem? Bem-vindo ao meu projeto! Espero que goste\" para Libras, vou buscar os sinais correspondentes.\n> \n> \n> Olá! Como não encontrei um único sinal que traduza toda a sua frase em Libras, vou te ajudar com os sinais de cada parte dela:\n> \n> *   **Oi:**\n> \n>     *   Feche a mão e deixe apenas o dedo indicador ereto.\n>     *   Gire o dedo indicador para frente, como se estivesse acenando.\n>     *   [https://vertexaisearch.cloud.google.com/grounding-api-redirect/AbF9wXEKRO3Vp4J5qTshnYMO74pSeopCL6dF7v1Ak3IC1_-iBU3qW_BHXTzkywmLnSj-bkdwLxVTzMFnFqOicNR_Spu38hz1IH9Waf5hQGLi3PZfMNM9GvWx2gKrsCEiSz3DsLhko_1Htw==](https://vertexaisearch.cloud.google.com/grounding-api-redirect/AbF9wXEKRO3Vp4J5qTshnYMO74pSeopCL6dF7v1Ak3IC1_-iBU3qW_BHXTzkywmLnSj-bkdwLxVTzMFnFqOicNR_Spu38hz1IH9Waf5hQGLi3PZfMNM9GvWx2gKrsCEiSz3DsLhko_1Htw==)\n> \n> *   **Tudo bem?:**\n> \n>     *   Sinalize \"bom\" com a mão em frente ao corpo (mão espalmada com o polegar para cima).\n>     *   Em seguida, faça o sinal de \"positivo\" (joia).\n>     *   A expressão facial deve acompanhar a pergunta.\n> \n>     *   [https://vertexaisearch.cloud.google.com/grounding-api-redirect/AbF9wXFwJ2T04UyKXweDiiMVE0OZ5u5bF1e6omABswJwEEcthsh83b28sXPx8RrJhgbJNMbv_7trpadrZQeNKnyXQzg1cVNTAE6RFS6XFM-iUolLXp8uaxL8P41AAHYOCXenJUUE2zQu](https://vertexaisearch.cloud.google.com/grounding-api-redirect/AbF9wXFwJ2T04UyKXweDiiMVE0OZ5u5bF1e6omABswJwEEcthsh83b28sXPx8RrJhgbJNMbv_7trpadrZQeNKnyXQzg1cVNTAE6RFS6XFM-iUolLXp8uaxL8P41AAHYOCXenJUUE2zQu)\n> \n> *   **Bem-vindo:**\n> \n>     *   Coloque uma mão na frente do corpo e a outra atrás.\n>     *   Faça um movimento puxando as mãos para você, como se estivesse convidando alguém a entrar.\n>     *   [https://vertexaisearch.cloud.google.com/grounding-api-redirect/AbF9wXGrpane3oj0C85PeC2YKRNmM6I243vjjzNFRTO4xCA1WYD3cZzFo9V05SGBV7tkYPqwjhOWmQIMD4G7sAn1eu4KAD21at-8tG7_dAgAp3T2GFQH_wwa1dYI4Uv5g4vIaIGg_C8xNQ==](https://vertexaisearch.cloud.google.com/grounding-api-redirect/AbF9wXGrpane3oj0C85PeC2YKRNmM6I243vjjzNFRTO4xCA1WYD3cZzFo9V05SGBV7tkYPqwjhOWmQIMD4G7sAn1eu4KAD21at-8tG7_dAgAp3T2GFQH_wwa1dYI4Uv5g4vIaIGg_C8xNQ==)\n> \n> *   **Projeto:**\n> \n>     *   Existem diferentes sinais para \"projeto\" dependendo do contexto. Um deles é com as duas mãos em \"L\", movendo-as em pequenos círculos. Outra opção é usar as duas mãos espalmadas, com os dedos indicadores apontando para frente, e movê-las para frente e para trás alternadamente.\n>     *   [https://vertexaisearch.cloud.google.com/grounding-api-redirect/AbF9wXG02qK_oTrXP_p-2yvvPvKcbg8p2Y9vaZpZpmTrtorQfAZkp2PJed33dA4jtUV9Fpexgd6e55OttWSh4rPIQIwbRybtTuR6FaAEpT0h2JMPOWmymvX2R-Ci0Wsco5J14YTOr62Sgg==](https://vertexaisearch.cloud.google.com/grounding-api-redirect/AbF9wXG02qK_oTrXP_p-2yvvPvKcbg8p2Y9vaZpZpmTrtorQfAZkp2PJed33dA4jtUV9Fpexgd6e55OttWSh4rPIQIwbRybtTuR6FaAEpT0h2JMPOWmymvX2R-Ci0Wsco5J14YTOr62Sgg==)\n>     *   [https://vertexaisearch.cloud.google.com/grounding-api-redirect/AbF9wXEN1ym_CPVC4-_waF7wPbRPs6dUhpkT-C_fHSLgdQ6rp6uEOZgvXknmHZkRSAsJVowvdHY86pO7TMPHBAwXkxcl3QMg1bAJCOACWXy7DG0kC-d0zbTKEKcXxhvJ6Q0ZcUO2OZjhwA==](https://vertexaisearch.cloud.google.com/grounding-api-redirect/AbF9wXEN1ym_CPVC4-_waF7wPbRPs6dUhpkT-C_fHSLgdQ6rp6uEOZgvXknmHZkRSAsJVowvdHY86pO7TMPHBAwXkxcl3QMg1bAJCOACWXy7DG0kC-d0zbTKEKcXxhvJ6Q0ZcUO2OZjhwA==)\n> \n> *   **Espero:**\n> \n>     *   O sinal de \"espero\" pode ser traduzido como \"ter esperança\".\n>     *   Há um vídeo no TikTok que mostra os sinais de \"Espero e Esperança\"\n> \n>     *   [https://vertexaisearch.cloud.google.com/grounding-api-redirect/AbF9wXGyirHzKaxKwrDZXgDVRVDHwj5N9SCW3Q31duj45R3vRBTfe2Bw9RdfOQyJKVxp2qicGUQO5xzbt2fwIvD2fb8jQ2t4x-IPwY1x18_mGoZSD8eOJTBe7_-JAmhVE3vJRfhDnZf0kPMs_JOnWrnngJLBX3M4fQq4YbGn](https://vertexaisearch.cloud.google.com/grounding-api-redirect/AbF9wXGyirHzKaxKwrDZXgDVRVDHwj5N9SCW3Q31duj45R3vRBTfe2Bw9RdfOQyJKVxp2qicGUQO5xzbt2fwIvD2fb8jQ2t4x-IPwY1x18_mGoZSD8eOJTBe7_-JAmhVE3vJRfhDnZf0kPMs_JOnWrnngJLBX3M4fQq4YbGn)\n> \n> *   **Goste:**\n> \n>     *   Leve a mão dominante aberta para o peito, encostando a palma.\n>     *   Faça movimentos circulares.\n>     *   [https://vertexaisearch.cloud.google.com/grounding-api-redirect/AbF9wXE4mNd1gKqJX3wOw6Dd36CtLk_eP3zuaW8y4oZC2XbSp1KGjrvZMtJkE3ly0KaO6Fd9iTuRv5nRVtTOnL8luSK4Gd-yuT7aH2byYRmaKQCafDrG1ZcmMKXjR1chNnnMiQcrVQ6E](https://vertexaisearch.cloud.google.com/grounding-api-redirect/AbF9wXE4mNd1gKqJX3wOw6Dd36CtLk_eP3zuaW8y4oZC2XbSp1KGjrvZMtJkE3ly0KaO6Fd9iTuRv5nRVtTOnL8luSK4Gd-yuT7aH2byYRmaKQCafDrG1ZcmMKXjR1chNnnMiQcrVQ6E)\n> \n> Espero que isso ajude! Se precisar de mais alguma coisa, é só perguntar. 😊\n> \n"
          },
          "metadata": {}
        }
      ]
    }
  ]
}
